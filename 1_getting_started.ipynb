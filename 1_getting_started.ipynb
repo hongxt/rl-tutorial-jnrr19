{
  "cells": [
    {
      "cell_type": "markdown",
      "metadata": {
        "id": "view-in-github",
        "colab_type": "text"
      },
      "source": [
        "<a href=\"https://colab.research.google.com/github/hongxt/rl-tutorial-jnrr19/blob/sb3/1_getting_started.ipynb\" target=\"_parent\"><img src=\"https://colab.research.google.com/assets/colab-badge.svg\" alt=\"Open In Colab\"/></a>"
      ]
    },
    {
      "cell_type": "markdown",
      "metadata": {
        "id": "hyyN-2qyK_T2"
      },
      "source": [
        "# Stable Baselines3 Tutorial - Getting Started\n",
        "\n",
        "Github repo: https://github.com/araffin/rl-tutorial-jnrr19/tree/sb3/\n",
        "\n",
        "Stable-Baselines3: https://github.com/DLR-RM/stable-baselines3\n",
        "\n",
        "Documentation: https://stable-baselines3.readthedocs.io/en/master/\n",
        "\n",
        "SB3-Contrib: https://github.com/Stable-Baselines-Team/stable-baselines3-contrib\n",
        "\n",
        "RL Baselines3 zoo: https://github.com/DLR-RM/rl-baselines3-zoo\n",
        "\n",
        "[RL Baselines3 Zoo](https://github.com/DLR-RM/rl-baselines3-zoo) is a training framework for Reinforcement Learning (RL), using Stable Baselines3.\n",
        "\n",
        "It provides scripts for training, evaluating agents, tuning hyperparameters, plotting results and recording videos.\n",
        "\n",
        "\n",
        "## Introduction\n",
        "\n",
        "In this notebook, you will learn the basics for using stable baselines library: how to create a RL model, train it and evaluate it. Because all algorithms share the same interface, we will see how simple it is to switch from one algorithm to another.\n",
        "\n",
        "\n",
        "## Install Dependencies and Stable Baselines3 Using Pip\n",
        "\n",
        "List of full dependencies can be found in the [README](https://github.com/DLR-RM/stable-baselines3).\n",
        "\n",
        "\n",
        "```\n",
        "pip install stable-baselines3[extra]\n",
        "```"
      ]
    },
    {
      "cell_type": "markdown",
      "source": [
        "使用这种方法可以及其方便的进行环境的安装"
      ],
      "metadata": {
        "id": "sGqXkcIhca0U"
      }
    },
    {
      "cell_type": "code",
      "execution_count": null,
      "metadata": {
        "id": "d_vuCCl1bsjB"
      },
      "outputs": [],
      "source": [
        "# for autoformatting\n",
        "# %load_ext jupyter_black"
      ]
    },
    {
      "cell_type": "code",
      "execution_count": 1,
      "metadata": {
        "colab": {
          "base_uri": "https://localhost:8080/"
        },
        "id": "gWskDE2c9WoN",
        "outputId": "91756d87-b6a5-40a2-ea50-e080f1bb7964"
      },
      "outputs": [
        {
          "output_type": "stream",
          "name": "stdout",
          "text": [
            "Reading package lists... Done\n",
            "Building dependency tree... Done\n",
            "Reading state information... Done\n",
            "ffmpeg is already the newest version (7:4.4.2-0ubuntu0.22.04.1).\n",
            "The following additional packages will be installed:\n",
            "  freeglut3 libegl-dev libfontenc1 libgl-dev libgl1-mesa-dev libgles-dev libgles1 libglu1-mesa\n",
            "  libglu1-mesa-dev libglvnd-core-dev libglvnd-dev libglx-dev libice-dev libopengl-dev libsm-dev\n",
            "  libxfont2 libxkbfile1 libxt-dev x11-xkb-utils xfonts-base xfonts-encodings xfonts-utils\n",
            "  xserver-common\n",
            "Suggested packages:\n",
            "  libice-doc libsm-doc libxt-doc\n",
            "The following NEW packages will be installed:\n",
            "  freeglut3 freeglut3-dev libegl-dev libfontenc1 libgl-dev libgl1-mesa-dev libgles-dev libgles1\n",
            "  libglu1-mesa libglu1-mesa-dev libglvnd-core-dev libglvnd-dev libglx-dev libice-dev libopengl-dev\n",
            "  libsm-dev libxfont2 libxkbfile1 libxt-dev x11-xkb-utils xfonts-base xfonts-encodings xfonts-utils\n",
            "  xserver-common xvfb\n",
            "0 upgraded, 25 newly installed, 0 to remove and 49 not upgraded.\n",
            "Need to get 9,076 kB of archives.\n",
            "After this operation, 18.7 MB of additional disk space will be used.\n",
            "Get:1 http://archive.ubuntu.com/ubuntu jammy/universe amd64 freeglut3 amd64 2.8.1-6 [74.0 kB]\n",
            "Get:2 http://archive.ubuntu.com/ubuntu jammy/main amd64 libglx-dev amd64 1.4.0-1 [14.1 kB]\n",
            "Get:3 http://archive.ubuntu.com/ubuntu jammy/main amd64 libgl-dev amd64 1.4.0-1 [101 kB]\n",
            "Get:4 http://archive.ubuntu.com/ubuntu jammy/main amd64 libglvnd-core-dev amd64 1.4.0-1 [12.7 kB]\n",
            "Get:5 http://archive.ubuntu.com/ubuntu jammy/main amd64 libegl-dev amd64 1.4.0-1 [18.0 kB]\n",
            "Get:6 http://archive.ubuntu.com/ubuntu jammy/main amd64 libgles1 amd64 1.4.0-1 [11.5 kB]\n",
            "Get:7 http://archive.ubuntu.com/ubuntu jammy/main amd64 libgles-dev amd64 1.4.0-1 [49.4 kB]\n",
            "Get:8 http://archive.ubuntu.com/ubuntu jammy/main amd64 libopengl-dev amd64 1.4.0-1 [3,400 B]\n",
            "Get:9 http://archive.ubuntu.com/ubuntu jammy/main amd64 libglvnd-dev amd64 1.4.0-1 [3,162 B]\n",
            "Get:10 http://archive.ubuntu.com/ubuntu jammy-updates/main amd64 libgl1-mesa-dev amd64 23.2.1-1ubuntu3.1~22.04.2 [6,842 B]\n",
            "Get:11 http://archive.ubuntu.com/ubuntu jammy/main amd64 libglu1-mesa amd64 9.0.2-1 [145 kB]\n",
            "Get:12 http://archive.ubuntu.com/ubuntu jammy/main amd64 libglu1-mesa-dev amd64 9.0.2-1 [231 kB]\n",
            "Get:13 http://archive.ubuntu.com/ubuntu jammy/main amd64 libice-dev amd64 2:1.0.10-1build2 [51.4 kB]\n",
            "Get:14 http://archive.ubuntu.com/ubuntu jammy/main amd64 libsm-dev amd64 2:1.2.3-1build2 [18.1 kB]\n",
            "Get:15 http://archive.ubuntu.com/ubuntu jammy/main amd64 libxt-dev amd64 1:1.2.1-1 [396 kB]\n",
            "Get:16 http://archive.ubuntu.com/ubuntu jammy/universe amd64 freeglut3-dev amd64 2.8.1-6 [126 kB]\n",
            "Get:17 http://archive.ubuntu.com/ubuntu jammy/main amd64 libfontenc1 amd64 1:1.1.4-1build3 [14.7 kB]\n",
            "Get:18 http://archive.ubuntu.com/ubuntu jammy/main amd64 libxfont2 amd64 1:2.0.5-1build1 [94.5 kB]\n",
            "Get:19 http://archive.ubuntu.com/ubuntu jammy/main amd64 libxkbfile1 amd64 1:1.1.0-1build3 [71.8 kB]\n",
            "Get:20 http://archive.ubuntu.com/ubuntu jammy/main amd64 x11-xkb-utils amd64 7.7+5build4 [172 kB]\n",
            "Get:21 http://archive.ubuntu.com/ubuntu jammy/main amd64 xfonts-encodings all 1:1.0.5-0ubuntu2 [578 kB]\n",
            "Get:22 http://archive.ubuntu.com/ubuntu jammy/main amd64 xfonts-utils amd64 1:7.7+6build2 [94.6 kB]\n",
            "Get:23 http://archive.ubuntu.com/ubuntu jammy/main amd64 xfonts-base all 1:1.0.5 [5,896 kB]\n",
            "Get:24 http://archive.ubuntu.com/ubuntu jammy-updates/main amd64 xserver-common all 2:21.1.4-2ubuntu1.7~22.04.12 [28.7 kB]\n",
            "Get:25 http://archive.ubuntu.com/ubuntu jammy-updates/universe amd64 xvfb amd64 2:21.1.4-2ubuntu1.7~22.04.12 [864 kB]\n",
            "Fetched 9,076 kB in 0s (33.7 MB/s)\n",
            "Selecting previously unselected package freeglut3:amd64.\n",
            "(Reading database ... 123632 files and directories currently installed.)\n",
            "Preparing to unpack .../00-freeglut3_2.8.1-6_amd64.deb ...\n",
            "Unpacking freeglut3:amd64 (2.8.1-6) ...\n",
            "Selecting previously unselected package libglx-dev:amd64.\n",
            "Preparing to unpack .../01-libglx-dev_1.4.0-1_amd64.deb ...\n",
            "Unpacking libglx-dev:amd64 (1.4.0-1) ...\n",
            "Selecting previously unselected package libgl-dev:amd64.\n",
            "Preparing to unpack .../02-libgl-dev_1.4.0-1_amd64.deb ...\n",
            "Unpacking libgl-dev:amd64 (1.4.0-1) ...\n",
            "Selecting previously unselected package libglvnd-core-dev:amd64.\n",
            "Preparing to unpack .../03-libglvnd-core-dev_1.4.0-1_amd64.deb ...\n",
            "Unpacking libglvnd-core-dev:amd64 (1.4.0-1) ...\n",
            "Selecting previously unselected package libegl-dev:amd64.\n",
            "Preparing to unpack .../04-libegl-dev_1.4.0-1_amd64.deb ...\n",
            "Unpacking libegl-dev:amd64 (1.4.0-1) ...\n",
            "Selecting previously unselected package libgles1:amd64.\n",
            "Preparing to unpack .../05-libgles1_1.4.0-1_amd64.deb ...\n",
            "Unpacking libgles1:amd64 (1.4.0-1) ...\n",
            "Selecting previously unselected package libgles-dev:amd64.\n",
            "Preparing to unpack .../06-libgles-dev_1.4.0-1_amd64.deb ...\n",
            "Unpacking libgles-dev:amd64 (1.4.0-1) ...\n",
            "Selecting previously unselected package libopengl-dev:amd64.\n",
            "Preparing to unpack .../07-libopengl-dev_1.4.0-1_amd64.deb ...\n",
            "Unpacking libopengl-dev:amd64 (1.4.0-1) ...\n",
            "Selecting previously unselected package libglvnd-dev:amd64.\n",
            "Preparing to unpack .../08-libglvnd-dev_1.4.0-1_amd64.deb ...\n",
            "Unpacking libglvnd-dev:amd64 (1.4.0-1) ...\n",
            "Selecting previously unselected package libgl1-mesa-dev:amd64.\n",
            "Preparing to unpack .../09-libgl1-mesa-dev_23.2.1-1ubuntu3.1~22.04.2_amd64.deb ...\n",
            "Unpacking libgl1-mesa-dev:amd64 (23.2.1-1ubuntu3.1~22.04.2) ...\n",
            "Selecting previously unselected package libglu1-mesa:amd64.\n",
            "Preparing to unpack .../10-libglu1-mesa_9.0.2-1_amd64.deb ...\n",
            "Unpacking libglu1-mesa:amd64 (9.0.2-1) ...\n",
            "Selecting previously unselected package libglu1-mesa-dev:amd64.\n",
            "Preparing to unpack .../11-libglu1-mesa-dev_9.0.2-1_amd64.deb ...\n",
            "Unpacking libglu1-mesa-dev:amd64 (9.0.2-1) ...\n",
            "Selecting previously unselected package libice-dev:amd64.\n",
            "Preparing to unpack .../12-libice-dev_2%3a1.0.10-1build2_amd64.deb ...\n",
            "Unpacking libice-dev:amd64 (2:1.0.10-1build2) ...\n",
            "Selecting previously unselected package libsm-dev:amd64.\n",
            "Preparing to unpack .../13-libsm-dev_2%3a1.2.3-1build2_amd64.deb ...\n",
            "Unpacking libsm-dev:amd64 (2:1.2.3-1build2) ...\n",
            "Selecting previously unselected package libxt-dev:amd64.\n",
            "Preparing to unpack .../14-libxt-dev_1%3a1.2.1-1_amd64.deb ...\n",
            "Unpacking libxt-dev:amd64 (1:1.2.1-1) ...\n",
            "Selecting previously unselected package freeglut3-dev:amd64.\n",
            "Preparing to unpack .../15-freeglut3-dev_2.8.1-6_amd64.deb ...\n",
            "Unpacking freeglut3-dev:amd64 (2.8.1-6) ...\n",
            "Selecting previously unselected package libfontenc1:amd64.\n",
            "Preparing to unpack .../16-libfontenc1_1%3a1.1.4-1build3_amd64.deb ...\n",
            "Unpacking libfontenc1:amd64 (1:1.1.4-1build3) ...\n",
            "Selecting previously unselected package libxfont2:amd64.\n",
            "Preparing to unpack .../17-libxfont2_1%3a2.0.5-1build1_amd64.deb ...\n",
            "Unpacking libxfont2:amd64 (1:2.0.5-1build1) ...\n",
            "Selecting previously unselected package libxkbfile1:amd64.\n",
            "Preparing to unpack .../18-libxkbfile1_1%3a1.1.0-1build3_amd64.deb ...\n",
            "Unpacking libxkbfile1:amd64 (1:1.1.0-1build3) ...\n",
            "Selecting previously unselected package x11-xkb-utils.\n",
            "Preparing to unpack .../19-x11-xkb-utils_7.7+5build4_amd64.deb ...\n",
            "Unpacking x11-xkb-utils (7.7+5build4) ...\n",
            "Selecting previously unselected package xfonts-encodings.\n",
            "Preparing to unpack .../20-xfonts-encodings_1%3a1.0.5-0ubuntu2_all.deb ...\n",
            "Unpacking xfonts-encodings (1:1.0.5-0ubuntu2) ...\n",
            "Selecting previously unselected package xfonts-utils.\n",
            "Preparing to unpack .../21-xfonts-utils_1%3a7.7+6build2_amd64.deb ...\n",
            "Unpacking xfonts-utils (1:7.7+6build2) ...\n",
            "Selecting previously unselected package xfonts-base.\n",
            "Preparing to unpack .../22-xfonts-base_1%3a1.0.5_all.deb ...\n",
            "Unpacking xfonts-base (1:1.0.5) ...\n",
            "Selecting previously unselected package xserver-common.\n",
            "Preparing to unpack .../23-xserver-common_2%3a21.1.4-2ubuntu1.7~22.04.12_all.deb ...\n",
            "Unpacking xserver-common (2:21.1.4-2ubuntu1.7~22.04.12) ...\n",
            "Selecting previously unselected package xvfb.\n",
            "Preparing to unpack .../24-xvfb_2%3a21.1.4-2ubuntu1.7~22.04.12_amd64.deb ...\n",
            "Unpacking xvfb (2:21.1.4-2ubuntu1.7~22.04.12) ...\n",
            "Setting up freeglut3:amd64 (2.8.1-6) ...\n",
            "Setting up libglvnd-core-dev:amd64 (1.4.0-1) ...\n",
            "Setting up libice-dev:amd64 (2:1.0.10-1build2) ...\n",
            "Setting up libsm-dev:amd64 (2:1.2.3-1build2) ...\n",
            "Setting up libfontenc1:amd64 (1:1.1.4-1build3) ...\n",
            "Setting up libxt-dev:amd64 (1:1.2.1-1) ...\n",
            "Setting up libgles1:amd64 (1.4.0-1) ...\n",
            "Setting up xfonts-encodings (1:1.0.5-0ubuntu2) ...\n",
            "Setting up libglx-dev:amd64 (1.4.0-1) ...\n",
            "Setting up libglu1-mesa:amd64 (9.0.2-1) ...\n",
            "Setting up libxkbfile1:amd64 (1:1.1.0-1build3) ...\n",
            "Setting up libopengl-dev:amd64 (1.4.0-1) ...\n",
            "Setting up libxfont2:amd64 (1:2.0.5-1build1) ...\n",
            "Setting up libgl-dev:amd64 (1.4.0-1) ...\n",
            "Setting up libegl-dev:amd64 (1.4.0-1) ...\n",
            "Setting up x11-xkb-utils (7.7+5build4) ...\n",
            "Setting up xfonts-utils (1:7.7+6build2) ...\n",
            "Setting up xfonts-base (1:1.0.5) ...\n",
            "Setting up libglu1-mesa-dev:amd64 (9.0.2-1) ...\n",
            "Setting up xserver-common (2:21.1.4-2ubuntu1.7~22.04.12) ...\n",
            "Setting up libgles-dev:amd64 (1.4.0-1) ...\n",
            "Setting up xvfb (2:21.1.4-2ubuntu1.7~22.04.12) ...\n",
            "Setting up libglvnd-dev:amd64 (1.4.0-1) ...\n",
            "Setting up libgl1-mesa-dev:amd64 (23.2.1-1ubuntu3.1~22.04.2) ...\n",
            "Setting up freeglut3-dev:amd64 (2.8.1-6) ...\n",
            "Processing triggers for libc-bin (2.35-0ubuntu3.4) ...\n",
            "/sbin/ldconfig.real: /usr/local/lib/libumf.so.0 is not a symbolic link\n",
            "\n",
            "/sbin/ldconfig.real: /usr/local/lib/libtbbbind_2_0.so.3 is not a symbolic link\n",
            "\n",
            "/sbin/ldconfig.real: /usr/local/lib/libur_adapter_opencl.so.0 is not a symbolic link\n",
            "\n",
            "/sbin/ldconfig.real: /usr/local/lib/libhwloc.so.15 is not a symbolic link\n",
            "\n",
            "/sbin/ldconfig.real: /usr/local/lib/libtbbmalloc_proxy.so.2 is not a symbolic link\n",
            "\n",
            "/sbin/ldconfig.real: /usr/local/lib/libtbb.so.12 is not a symbolic link\n",
            "\n",
            "/sbin/ldconfig.real: /usr/local/lib/libtcm.so.1 is not a symbolic link\n",
            "\n",
            "/sbin/ldconfig.real: /usr/local/lib/libtbbmalloc.so.2 is not a symbolic link\n",
            "\n",
            "/sbin/ldconfig.real: /usr/local/lib/libtbbbind_2_5.so.3 is not a symbolic link\n",
            "\n",
            "/sbin/ldconfig.real: /usr/local/lib/libur_adapter_level_zero.so.0 is not a symbolic link\n",
            "\n",
            "/sbin/ldconfig.real: /usr/local/lib/libtbbbind.so.3 is not a symbolic link\n",
            "\n",
            "/sbin/ldconfig.real: /usr/local/lib/libur_loader.so.0 is not a symbolic link\n",
            "\n",
            "/sbin/ldconfig.real: /usr/local/lib/libtcm_debug.so.1 is not a symbolic link\n",
            "\n",
            "Processing triggers for man-db (2.10.2-1) ...\n",
            "Processing triggers for fontconfig (2.13.1-4.2ubuntu5) ...\n",
            "Collecting stable-baselines3>=2.0.0a4 (from stable-baselines3[extra]>=2.0.0a4)\n",
            "  Downloading stable_baselines3-2.5.0a0-py3-none-any.whl.metadata (4.5 kB)\n",
            "Collecting gymnasium<1.1.0,>=0.29.1 (from stable-baselines3>=2.0.0a4->stable-baselines3[extra]>=2.0.0a4)\n",
            "  Downloading gymnasium-1.0.0-py3-none-any.whl.metadata (9.5 kB)\n",
            "Requirement already satisfied: numpy<3.0,>=1.20 in /usr/local/lib/python3.10/dist-packages (from stable-baselines3>=2.0.0a4->stable-baselines3[extra]>=2.0.0a4) (1.26.4)\n",
            "Requirement already satisfied: torch<3.0,>=2.3 in /usr/local/lib/python3.10/dist-packages (from stable-baselines3>=2.0.0a4->stable-baselines3[extra]>=2.0.0a4) (2.5.1+cu121)\n",
            "Requirement already satisfied: cloudpickle in /usr/local/lib/python3.10/dist-packages (from stable-baselines3>=2.0.0a4->stable-baselines3[extra]>=2.0.0a4) (3.1.0)\n",
            "Requirement already satisfied: pandas in /usr/local/lib/python3.10/dist-packages (from stable-baselines3>=2.0.0a4->stable-baselines3[extra]>=2.0.0a4) (2.2.2)\n",
            "Requirement already satisfied: matplotlib in /usr/local/lib/python3.10/dist-packages (from stable-baselines3>=2.0.0a4->stable-baselines3[extra]>=2.0.0a4) (3.8.0)\n",
            "Requirement already satisfied: opencv-python in /usr/local/lib/python3.10/dist-packages (from stable-baselines3[extra]>=2.0.0a4) (4.10.0.84)\n",
            "Requirement already satisfied: pygame in /usr/local/lib/python3.10/dist-packages (from stable-baselines3[extra]>=2.0.0a4) (2.6.1)\n",
            "Requirement already satisfied: tensorboard>=2.9.1 in /usr/local/lib/python3.10/dist-packages (from stable-baselines3[extra]>=2.0.0a4) (2.17.1)\n",
            "Requirement already satisfied: psutil in /usr/local/lib/python3.10/dist-packages (from stable-baselines3[extra]>=2.0.0a4) (5.9.5)\n",
            "Requirement already satisfied: tqdm in /usr/local/lib/python3.10/dist-packages (from stable-baselines3[extra]>=2.0.0a4) (4.66.6)\n",
            "Requirement already satisfied: rich in /usr/local/lib/python3.10/dist-packages (from stable-baselines3[extra]>=2.0.0a4) (13.9.4)\n",
            "Collecting ale-py>=0.9.0 (from stable-baselines3[extra]>=2.0.0a4)\n",
            "  Downloading ale_py-0.10.1-cp310-cp310-manylinux_2_17_x86_64.manylinux2014_x86_64.whl.metadata (7.6 kB)\n",
            "Requirement already satisfied: pillow in /usr/local/lib/python3.10/dist-packages (from stable-baselines3[extra]>=2.0.0a4) (11.0.0)\n",
            "Requirement already satisfied: typing-extensions in /usr/local/lib/python3.10/dist-packages (from ale-py>=0.9.0->stable-baselines3[extra]>=2.0.0a4) (4.12.2)\n",
            "Collecting farama-notifications>=0.0.1 (from gymnasium<1.1.0,>=0.29.1->stable-baselines3>=2.0.0a4->stable-baselines3[extra]>=2.0.0a4)\n",
            "  Downloading Farama_Notifications-0.0.4-py3-none-any.whl.metadata (558 bytes)\n",
            "Requirement already satisfied: absl-py>=0.4 in /usr/local/lib/python3.10/dist-packages (from tensorboard>=2.9.1->stable-baselines3[extra]>=2.0.0a4) (1.4.0)\n",
            "Requirement already satisfied: grpcio>=1.48.2 in /usr/local/lib/python3.10/dist-packages (from tensorboard>=2.9.1->stable-baselines3[extra]>=2.0.0a4) (1.68.1)\n",
            "Requirement already satisfied: markdown>=2.6.8 in /usr/local/lib/python3.10/dist-packages (from tensorboard>=2.9.1->stable-baselines3[extra]>=2.0.0a4) (3.7)\n",
            "Requirement already satisfied: packaging in /usr/local/lib/python3.10/dist-packages (from tensorboard>=2.9.1->stable-baselines3[extra]>=2.0.0a4) (24.2)\n",
            "Requirement already satisfied: protobuf!=4.24.0,>=3.19.6 in /usr/local/lib/python3.10/dist-packages (from tensorboard>=2.9.1->stable-baselines3[extra]>=2.0.0a4) (4.25.5)\n",
            "Requirement already satisfied: setuptools>=41.0.0 in /usr/local/lib/python3.10/dist-packages (from tensorboard>=2.9.1->stable-baselines3[extra]>=2.0.0a4) (75.1.0)\n",
            "Requirement already satisfied: six>1.9 in /usr/local/lib/python3.10/dist-packages (from tensorboard>=2.9.1->stable-baselines3[extra]>=2.0.0a4) (1.16.0)\n",
            "Requirement already satisfied: tensorboard-data-server<0.8.0,>=0.7.0 in /usr/local/lib/python3.10/dist-packages (from tensorboard>=2.9.1->stable-baselines3[extra]>=2.0.0a4) (0.7.2)\n",
            "Requirement already satisfied: werkzeug>=1.0.1 in /usr/local/lib/python3.10/dist-packages (from tensorboard>=2.9.1->stable-baselines3[extra]>=2.0.0a4) (3.1.3)\n",
            "Requirement already satisfied: filelock in /usr/local/lib/python3.10/dist-packages (from torch<3.0,>=2.3->stable-baselines3>=2.0.0a4->stable-baselines3[extra]>=2.0.0a4) (3.16.1)\n",
            "Requirement already satisfied: networkx in /usr/local/lib/python3.10/dist-packages (from torch<3.0,>=2.3->stable-baselines3>=2.0.0a4->stable-baselines3[extra]>=2.0.0a4) (3.4.2)\n",
            "Requirement already satisfied: jinja2 in /usr/local/lib/python3.10/dist-packages (from torch<3.0,>=2.3->stable-baselines3>=2.0.0a4->stable-baselines3[extra]>=2.0.0a4) (3.1.4)\n",
            "Requirement already satisfied: fsspec in /usr/local/lib/python3.10/dist-packages (from torch<3.0,>=2.3->stable-baselines3>=2.0.0a4->stable-baselines3[extra]>=2.0.0a4) (2024.10.0)\n",
            "Requirement already satisfied: sympy==1.13.1 in /usr/local/lib/python3.10/dist-packages (from torch<3.0,>=2.3->stable-baselines3>=2.0.0a4->stable-baselines3[extra]>=2.0.0a4) (1.13.1)\n",
            "Requirement already satisfied: mpmath<1.4,>=1.1.0 in /usr/local/lib/python3.10/dist-packages (from sympy==1.13.1->torch<3.0,>=2.3->stable-baselines3>=2.0.0a4->stable-baselines3[extra]>=2.0.0a4) (1.3.0)\n",
            "Requirement already satisfied: contourpy>=1.0.1 in /usr/local/lib/python3.10/dist-packages (from matplotlib->stable-baselines3>=2.0.0a4->stable-baselines3[extra]>=2.0.0a4) (1.3.1)\n",
            "Requirement already satisfied: cycler>=0.10 in /usr/local/lib/python3.10/dist-packages (from matplotlib->stable-baselines3>=2.0.0a4->stable-baselines3[extra]>=2.0.0a4) (0.12.1)\n",
            "Requirement already satisfied: fonttools>=4.22.0 in /usr/local/lib/python3.10/dist-packages (from matplotlib->stable-baselines3>=2.0.0a4->stable-baselines3[extra]>=2.0.0a4) (4.55.1)\n",
            "Requirement already satisfied: kiwisolver>=1.0.1 in /usr/local/lib/python3.10/dist-packages (from matplotlib->stable-baselines3>=2.0.0a4->stable-baselines3[extra]>=2.0.0a4) (1.4.7)\n",
            "Requirement already satisfied: pyparsing>=2.3.1 in /usr/local/lib/python3.10/dist-packages (from matplotlib->stable-baselines3>=2.0.0a4->stable-baselines3[extra]>=2.0.0a4) (3.2.0)\n",
            "Requirement already satisfied: python-dateutil>=2.7 in /usr/local/lib/python3.10/dist-packages (from matplotlib->stable-baselines3>=2.0.0a4->stable-baselines3[extra]>=2.0.0a4) (2.8.2)\n",
            "Requirement already satisfied: pytz>=2020.1 in /usr/local/lib/python3.10/dist-packages (from pandas->stable-baselines3>=2.0.0a4->stable-baselines3[extra]>=2.0.0a4) (2024.2)\n",
            "Requirement already satisfied: tzdata>=2022.7 in /usr/local/lib/python3.10/dist-packages (from pandas->stable-baselines3>=2.0.0a4->stable-baselines3[extra]>=2.0.0a4) (2024.2)\n",
            "Requirement already satisfied: markdown-it-py>=2.2.0 in /usr/local/lib/python3.10/dist-packages (from rich->stable-baselines3[extra]>=2.0.0a4) (3.0.0)\n",
            "Requirement already satisfied: pygments<3.0.0,>=2.13.0 in /usr/local/lib/python3.10/dist-packages (from rich->stable-baselines3[extra]>=2.0.0a4) (2.18.0)\n",
            "Requirement already satisfied: mdurl~=0.1 in /usr/local/lib/python3.10/dist-packages (from markdown-it-py>=2.2.0->rich->stable-baselines3[extra]>=2.0.0a4) (0.1.2)\n",
            "Requirement already satisfied: MarkupSafe>=2.1.1 in /usr/local/lib/python3.10/dist-packages (from werkzeug>=1.0.1->tensorboard>=2.9.1->stable-baselines3[extra]>=2.0.0a4) (3.0.2)\n",
            "Downloading stable_baselines3-2.5.0a0-py3-none-any.whl (183 kB)\n",
            "\u001b[2K   \u001b[90m━━━━━━━━━━━━━━━━━━━━━━━━━━━━━━━━━━━━━━━━\u001b[0m \u001b[32m183.7/183.7 kB\u001b[0m \u001b[31m10.1 MB/s\u001b[0m eta \u001b[36m0:00:00\u001b[0m\n",
            "\u001b[?25hDownloading ale_py-0.10.1-cp310-cp310-manylinux_2_17_x86_64.manylinux2014_x86_64.whl (2.1 MB)\n",
            "\u001b[2K   \u001b[90m━━━━━━━━━━━━━━━━━━━━━━━━━━━━━━━━━━━━━━━━\u001b[0m \u001b[32m2.1/2.1 MB\u001b[0m \u001b[31m74.8 MB/s\u001b[0m eta \u001b[36m0:00:00\u001b[0m\n",
            "\u001b[?25hDownloading gymnasium-1.0.0-py3-none-any.whl (958 kB)\n",
            "\u001b[2K   \u001b[90m━━━━━━━━━━━━━━━━━━━━━━━━━━━━━━━━━━━━━━━━\u001b[0m \u001b[32m958.1/958.1 kB\u001b[0m \u001b[31m58.4 MB/s\u001b[0m eta \u001b[36m0:00:00\u001b[0m\n",
            "\u001b[?25hDownloading Farama_Notifications-0.0.4-py3-none-any.whl (2.5 kB)\n",
            "Installing collected packages: farama-notifications, gymnasium, ale-py, stable-baselines3\n",
            "Successfully installed ale-py-0.10.1 farama-notifications-0.0.4 gymnasium-1.0.0 stable-baselines3-2.5.0a0\n"
          ]
        }
      ],
      "source": [
        "!apt-get install ffmpeg freeglut3-dev xvfb  # For visualization\n",
        "!pip install \"stable-baselines3[extra]>=2.0.0a4\""
      ]
    },
    {
      "cell_type": "markdown",
      "metadata": {
        "id": "FtY8FhliLsGm"
      },
      "source": [
        "## Imports"
      ]
    },
    {
      "cell_type": "markdown",
      "metadata": {
        "id": "gcX8hEcaUpR0"
      },
      "source": [
        "Stable-Baselines3 works on environments that follow the [gym interface](https://stable-baselines3.readthedocs.io/en/master/guide/custom_env.html).\n",
        "You can find a list of available environment [here](https://gymnasium.farama.org/environments/classic_control/).\n",
        "\n",
        "Not all algorithms can work with all action spaces, you can find more in this [recap table](https://stable-baselines3.readthedocs.io/en/master/guide/algos.html)"
      ]
    },
    {
      "cell_type": "code",
      "execution_count": 2,
      "metadata": {
        "id": "BIedd7Pz9sOs"
      },
      "outputs": [],
      "source": [
        "import gymnasium as gym\n",
        "import numpy as np"
      ]
    },
    {
      "cell_type": "markdown",
      "metadata": {
        "id": "Ae32CtgzTG3R"
      },
      "source": [
        "The first thing you need to import is the RL model, check the documentation to know what you can use on which problem"
      ]
    },
    {
      "cell_type": "code",
      "execution_count": 3,
      "metadata": {
        "id": "R7tKaBFrTR0a"
      },
      "outputs": [],
      "source": [
        "from stable_baselines3 import PPO"
      ]
    },
    {
      "cell_type": "markdown",
      "metadata": {
        "id": "-0_8OQbOTTNT"
      },
      "source": [
        "The next thing you need to import is the policy class that will be used to create the networks (for the policy/value functions).\n",
        "This step is optional as you can directly use strings in the constructor:\n",
        "\n",
        "```PPO('MlpPolicy', env)``` instead of ```PPO(MlpPolicy, env)```\n",
        "\n",
        "Note that some algorithms like `SAC` have their own `MlpPolicy`, that's why using string for the policy is the recommended option."
      ]
    },
    {
      "cell_type": "code",
      "execution_count": 4,
      "metadata": {
        "id": "ROUJr675TT01"
      },
      "outputs": [],
      "source": [
        "from stable_baselines3.ppo.policies import MlpPolicy"
      ]
    },
    {
      "cell_type": "markdown",
      "metadata": {
        "id": "RapkYvTXL7Cd"
      },
      "source": [
        "## Create the Gym env and instantiate the agent\n",
        "\n",
        "For this example, we will use CartPole environment, a classic control problem.\n",
        "\n",
        "\"A pole is attached by an un-actuated joint to a cart, which moves along a frictionless track. The system is controlled by applying a force of +1 or -1 to the cart. The pendulum starts upright, and the goal is to prevent it from falling over. A reward of +1 is provided for every timestep that the pole remains upright. \"\n",
        "\n",
        "Cartpole environment: [https://gymnasium.farama.org/environments/classic_control/cart_pole/](https://gymnasium.farama.org/environments/classic_control/cart_pole/)\n",
        "\n",
        "![Cartpole](https://cdn-images-1.medium.com/max/1143/1*h4WTQNVIsvMXJTCpXm_TAw.gif)\n",
        "\n",
        "\n",
        "We chose the MlpPolicy because the observation of the CartPole task is a feature vector, not images.\n",
        "\n",
        "The type of action to use (discrete/continuous) will be automatically deduced from the environment action space\n",
        "\n",
        "Here we are using the [Proximal Policy Optimization](https://stable-baselines3.readthedocs.io/en/master/modules/ppo.html) algorithm, which is an Actor-Critic method: it uses a value function to improve the policy gradient descent (by reducing the variance).\n",
        "\n",
        "It combines ideas from [A2C](https://stable-baselines3.readthedocs.io/en/master/modules/a2c.html) (having multiple workers and using an entropy bonus for exploration) and [TRPO](https://stable-baselines.readthedocs.io/en/master/modules/trpo.html) (it uses a trust region to improve stability and avoid catastrophic drops in performance).\n",
        "\n",
        "PPO is an on-policy algorithm, which means that the trajectories used to update the networks must be collected using the latest policy.\n",
        "It is usually less sample efficient than off-policy alorithms like [DQN](https://stable-baselines.readthedocs.io/en/master/modules/dqn.html), [SAC](https://stable-baselines3.readthedocs.io/en/master/modules/sac.html) or [TD3](https://stable-baselines3.readthedocs.io/en/master/modules/td3.html), but is much faster regarding wall-clock time.\n"
      ]
    },
    {
      "cell_type": "code",
      "execution_count": 5,
      "metadata": {
        "colab": {
          "base_uri": "https://localhost:8080/"
        },
        "id": "pUWGZp3i9wyf",
        "outputId": "c6a445f9-d71c-41fd-ee3d-33973a9403ba"
      },
      "outputs": [
        {
          "output_type": "stream",
          "name": "stderr",
          "text": [
            "/usr/local/lib/python3.10/dist-packages/stable_baselines3/common/on_policy_algorithm.py:150: UserWarning: You are trying to run PPO on the GPU, but it is primarily intended to run on the CPU when not using a CNN policy (you are using ActorCriticPolicy which should be a MlpPolicy). See https://github.com/DLR-RM/stable-baselines3/issues/1245 for more info. You can pass `device='cpu'` or `export CUDA_VISIBLE_DEVICES=` to force using the CPU.Note: The model will train, but the GPU utilization will be poor and the training might take longer than on CPU.\n",
            "  warnings.warn(\n"
          ]
        }
      ],
      "source": [
        "env = gym.make(\"CartPole-v1\")\n",
        "\n",
        "model = PPO(MlpPolicy, env, verbose=0)"
      ]
    },
    {
      "cell_type": "markdown",
      "metadata": {
        "id": "4efFdrQ7MBvl"
      },
      "source": [
        "We create a helper function to evaluate the agent:"
      ]
    },
    {
      "cell_type": "code",
      "execution_count": 6,
      "metadata": {
        "id": "63M8mSKR-6Zt"
      },
      "outputs": [],
      "source": [
        "from stable_baselines3.common.base_class import BaseAlgorithm\n",
        "\n",
        "\n",
        "def evaluate(\n",
        "    model: BaseAlgorithm,\n",
        "    num_episodes: int = 100,\n",
        "    deterministic: bool = True,\n",
        ") -> float:\n",
        "    \"\"\"\n",
        "    Evaluate an RL agent for `num_episodes`.\n",
        "\n",
        "    :param model: the RL Agent\n",
        "    :param env: the gym Environment\n",
        "    :param num_episodes: number of episodes to evaluate it\n",
        "    :param deterministic: Whether to use deterministic or stochastic actions\n",
        "    :return: Mean reward for the last `num_episodes`\n",
        "    \"\"\"\n",
        "    # This function will only work for a single environment\n",
        "    vec_env = model.get_env()\n",
        "    obs = vec_env.reset()\n",
        "    all_episode_rewards = []\n",
        "    for _ in range(num_episodes):\n",
        "        episode_rewards = []\n",
        "        done = False\n",
        "        # Note: SB3 VecEnv resets automatically:\n",
        "        # https://stable-baselines3.readthedocs.io/en/master/guide/vec_envs.html#vecenv-api-vs-gym-api\n",
        "        # obs = vec_env.reset()\n",
        "        while not done:\n",
        "            # _states are only useful when using LSTM policies\n",
        "            # `deterministic` is to use deterministic actions\n",
        "            action, _states = model.predict(obs, deterministic=deterministic)\n",
        "            # here, action, rewards and dones are arrays\n",
        "            # because we are using vectorized env\n",
        "            obs, reward, done, _info = vec_env.step(action)\n",
        "            episode_rewards.append(reward)\n",
        "\n",
        "        all_episode_rewards.append(sum(episode_rewards))\n",
        "\n",
        "    mean_episode_reward = np.mean(all_episode_rewards)\n",
        "    print(f\"Mean reward: {mean_episode_reward:.2f} - Num episodes: {num_episodes}\")\n",
        "\n",
        "    return mean_episode_reward"
      ]
    },
    {
      "cell_type": "markdown",
      "metadata": {
        "id": "zjEVOIY8NVeK"
      },
      "source": [
        "Let's evaluate the un-trained agent, this should be a random agent."
      ]
    },
    {
      "cell_type": "code",
      "execution_count": 7,
      "metadata": {
        "colab": {
          "base_uri": "https://localhost:8080/"
        },
        "id": "xDHLMA6NFk95",
        "outputId": "9b9448ab-6290-4bba-b329-096783523a29"
      },
      "outputs": [
        {
          "output_type": "stream",
          "name": "stdout",
          "text": [
            "Mean reward: 37.32 - Num episodes: 100\n"
          ]
        }
      ],
      "source": [
        "# Random Agent, before training\n",
        "mean_reward_before_train = evaluate(model, num_episodes=100, deterministic=True)"
      ]
    },
    {
      "cell_type": "markdown",
      "metadata": {
        "id": "QjjPxrwkYJ2i"
      },
      "source": [
        "Stable-Baselines already provides you with that helper:"
      ]
    },
    {
      "cell_type": "code",
      "execution_count": 8,
      "metadata": {
        "id": "8z6K9YImYJEx"
      },
      "outputs": [],
      "source": [
        "from stable_baselines3.common.evaluation import evaluate_policy"
      ]
    },
    {
      "cell_type": "code",
      "execution_count": 9,
      "metadata": {
        "colab": {
          "base_uri": "https://localhost:8080/"
        },
        "id": "4oPTHjxyZSOL",
        "outputId": "95961bd5-1a9a-417f-e1b4-fafd2764afb3"
      },
      "outputs": [
        {
          "output_type": "stream",
          "name": "stdout",
          "text": [
            "mean_reward: 36.14 +/- 13.04\n"
          ]
        }
      ],
      "source": [
        "mean_reward, std_reward = evaluate_policy(model, env, n_eval_episodes=100, warn=False)\n",
        "\n",
        "print(f\"mean_reward: {mean_reward:.2f} +/- {std_reward:.2f}\")"
      ]
    },
    {
      "cell_type": "markdown",
      "metadata": {
        "id": "r5UoXTZPNdFE"
      },
      "source": [
        "## Train the agent and evaluate it"
      ]
    },
    {
      "cell_type": "code",
      "execution_count": 11,
      "metadata": {
        "colab": {
          "base_uri": "https://localhost:8080/"
        },
        "id": "e4cfSXIB-pTF",
        "outputId": "91e3af6f-d886-483b-f80f-817be7104a8a"
      },
      "outputs": [
        {
          "output_type": "execute_result",
          "data": {
            "text/plain": [
              "<stable_baselines3.ppo.ppo.PPO at 0x7bba30d721a0>"
            ]
          },
          "metadata": {},
          "execution_count": 11
        }
      ],
      "source": [
        "# Train the agent for 10000 steps\n",
        "model.learn(total_timesteps=10_000)"
      ]
    },
    {
      "cell_type": "code",
      "execution_count": 12,
      "metadata": {
        "colab": {
          "base_uri": "https://localhost:8080/"
        },
        "id": "ygl_gVmV_QP7",
        "outputId": "a8a6cb39-0740-4e39-e5e1-629ce4f295c9"
      },
      "outputs": [
        {
          "output_type": "stream",
          "name": "stderr",
          "text": [
            "/usr/local/lib/python3.10/dist-packages/stable_baselines3/common/evaluation.py:67: UserWarning: Evaluation environment is not wrapped with a ``Monitor`` wrapper. This may result in reporting modified episode lengths and rewards, if other wrappers happen to modify these. Consider wrapping environment first with ``Monitor`` wrapper.\n",
            "  warnings.warn(\n"
          ]
        },
        {
          "output_type": "stream",
          "name": "stdout",
          "text": [
            "mean_reward:500.00 +/- 0.00\n"
          ]
        }
      ],
      "source": [
        "# Evaluate the trained agent\n",
        "mean_reward, std_reward = evaluate_policy(model, env, n_eval_episodes=100)\n",
        "\n",
        "print(f\"mean_reward:{mean_reward:.2f} +/- {std_reward:.2f}\")"
      ]
    },
    {
      "cell_type": "markdown",
      "metadata": {
        "id": "A00W6yY3NkHG"
      },
      "source": [
        "Apparently the training went well, the mean reward increased a lot !"
      ]
    },
    {
      "cell_type": "markdown",
      "metadata": {
        "id": "xVm9QPNVwKXN"
      },
      "source": [
        "### Prepare video recording"
      ]
    },
    {
      "cell_type": "code",
      "execution_count": 13,
      "metadata": {
        "id": "MPyfQxD5z26J"
      },
      "outputs": [],
      "source": [
        "# Set up fake display; otherwise rendering will fail\n",
        "import os\n",
        "os.system(\"Xvfb :1 -screen 0 1024x768x24 &\")\n",
        "os.environ['DISPLAY'] = ':1'"
      ]
    },
    {
      "cell_type": "code",
      "execution_count": 14,
      "metadata": {
        "id": "SLzXxO8VMD6N"
      },
      "outputs": [],
      "source": [
        "import base64\n",
        "from pathlib import Path\n",
        "\n",
        "from IPython import display as ipythondisplay\n",
        "\n",
        "\n",
        "def show_videos(video_path=\"\", prefix=\"\"):\n",
        "    \"\"\"\n",
        "    Taken from https://github.com/eleurent/highway-env\n",
        "\n",
        "    :param video_path: (str) Path to the folder containing videos\n",
        "    :param prefix: (str) Filter the video, showing only the only starting with this prefix\n",
        "    \"\"\"\n",
        "    html = []\n",
        "    for mp4 in Path(video_path).glob(\"{}*.mp4\".format(prefix)):\n",
        "        video_b64 = base64.b64encode(mp4.read_bytes())\n",
        "        html.append(\n",
        "            \"\"\"<video alt=\"{}\" autoplay\n",
        "                    loop controls style=\"height: 400px;\">\n",
        "                    <source src=\"data:video/mp4;base64,{}\" type=\"video/mp4\" />\n",
        "                </video>\"\"\".format(\n",
        "                mp4, video_b64.decode(\"ascii\")\n",
        "            )\n",
        "        )\n",
        "    ipythondisplay.display(ipythondisplay.HTML(data=\"<br>\".join(html)))"
      ]
    },
    {
      "cell_type": "markdown",
      "metadata": {
        "id": "LTRNUfulOGaF"
      },
      "source": [
        "We will record a video using the [VecVideoRecorder](https://stable-baselines3.readthedocs.io/en/master/guide/vec_envs.html#vecvideorecorder) wrapper, you will learn about those wrapper in the next notebook."
      ]
    },
    {
      "cell_type": "code",
      "execution_count": 15,
      "metadata": {
        "id": "Trag9dQpOIhx"
      },
      "outputs": [],
      "source": [
        "from stable_baselines3.common.vec_env import VecVideoRecorder, DummyVecEnv\n",
        "\n",
        "\n",
        "def record_video(env_id, model, video_length=500, prefix=\"\", video_folder=\"videos/\"):\n",
        "    \"\"\"\n",
        "    :param env_id: (str)\n",
        "    :param model: (RL model)\n",
        "    :param video_length: (int)\n",
        "    :param prefix: (str)\n",
        "    :param video_folder: (str)\n",
        "    \"\"\"\n",
        "    eval_env = DummyVecEnv([lambda: gym.make(env_id, render_mode=\"rgb_array\")])\n",
        "    # Start the video at step=0 and record 500 steps\n",
        "    eval_env = VecVideoRecorder(\n",
        "        eval_env,\n",
        "        video_folder=video_folder,\n",
        "        record_video_trigger=lambda step: step == 0,\n",
        "        video_length=video_length,\n",
        "        name_prefix=prefix,\n",
        "    )\n",
        "\n",
        "    obs = eval_env.reset()\n",
        "    for _ in range(video_length):\n",
        "        action, _ = model.predict(obs)\n",
        "        obs, _, _, _ = eval_env.step(action)\n",
        "\n",
        "    # Close the video recorder\n",
        "    eval_env.close()"
      ]
    },
    {
      "cell_type": "markdown",
      "metadata": {
        "id": "KOObbeu5MMlR"
      },
      "source": [
        "### Visualize trained agent\n",
        "\n"
      ]
    },
    {
      "cell_type": "code",
      "execution_count": 16,
      "metadata": {
        "colab": {
          "base_uri": "https://localhost:8080/"
        },
        "id": "iATu7AiyMQW2",
        "outputId": "289e6e55-209b-4da6-f1e7-817b9c8d8765"
      },
      "outputs": [
        {
          "output_type": "stream",
          "name": "stderr",
          "text": [
            "/usr/local/lib/python3.10/dist-packages/pygame/pkgdata.py:25: DeprecationWarning: pkg_resources is deprecated as an API. See https://setuptools.pypa.io/en/latest/pkg_resources.html\n",
            "  from pkg_resources import resource_stream, resource_exists\n",
            "/usr/local/lib/python3.10/dist-packages/pkg_resources/__init__.py:3154: DeprecationWarning: Deprecated call to `pkg_resources.declare_namespace('google')`.\n",
            "Implementing implicit namespace packages (as specified in PEP 420) is preferred to `pkg_resources.declare_namespace`. See https://setuptools.pypa.io/en/latest/references/keywords.html#keyword-namespace-packages\n",
            "  declare_namespace(pkg)\n",
            "/usr/local/lib/python3.10/dist-packages/pkg_resources/__init__.py:3154: DeprecationWarning: Deprecated call to `pkg_resources.declare_namespace('google.cloud')`.\n",
            "Implementing implicit namespace packages (as specified in PEP 420) is preferred to `pkg_resources.declare_namespace`. See https://setuptools.pypa.io/en/latest/references/keywords.html#keyword-namespace-packages\n",
            "  declare_namespace(pkg)\n",
            "/usr/local/lib/python3.10/dist-packages/pkg_resources/__init__.py:3154: DeprecationWarning: Deprecated call to `pkg_resources.declare_namespace('sphinxcontrib')`.\n",
            "Implementing implicit namespace packages (as specified in PEP 420) is preferred to `pkg_resources.declare_namespace`. See https://setuptools.pypa.io/en/latest/references/keywords.html#keyword-namespace-packages\n",
            "  declare_namespace(pkg)\n"
          ]
        },
        {
          "output_type": "stream",
          "name": "stdout",
          "text": [
            "Saving video to /content/videos/ppo-cartpole-step-0-to-step-500.mp4\n"
          ]
        },
        {
          "output_type": "stream",
          "name": "stderr",
          "text": [
            "/usr/local/lib/python3.10/dist-packages/moviepy/config_defaults.py:1: DeprecationWarning: invalid escape sequence '\\P'\n",
            "  \"\"\"\n"
          ]
        },
        {
          "output_type": "stream",
          "name": "stdout",
          "text": [
            "Moviepy - Building video /content/videos/ppo-cartpole-step-0-to-step-500.mp4.\n",
            "Moviepy - Writing video /content/videos/ppo-cartpole-step-0-to-step-500.mp4\n",
            "\n"
          ]
        },
        {
          "output_type": "stream",
          "name": "stderr",
          "text": [
            "                                                               "
          ]
        },
        {
          "output_type": "stream",
          "name": "stdout",
          "text": [
            "Moviepy - Done !\n",
            "Moviepy - video ready /content/videos/ppo-cartpole-step-0-to-step-500.mp4\n"
          ]
        },
        {
          "output_type": "stream",
          "name": "stderr",
          "text": [
            "\r"
          ]
        }
      ],
      "source": [
        "record_video(\"CartPole-v1\", model, video_length=500, prefix=\"ppo-cartpole\")"
      ]
    },
    {
      "cell_type": "code",
      "execution_count": 17,
      "metadata": {
        "colab": {
          "base_uri": "https://localhost:8080/",
          "height": 420
        },
        "id": "-n4i-fW3NojZ",
        "outputId": "c52a467d-c13e-4582-a3c9-4080c7147fda"
      },
      "outputs": [
        {
          "output_type": "display_data",
          "data": {
            "text/plain": [
              "<IPython.core.display.HTML object>"
            ],
            "text/html": [
              "<video alt=\"videos/ppo-cartpole-step-0-to-step-500.mp4\" autoplay \n",
              "                    loop controls style=\"height: 400px;\">\n",
              "                    <source src=\"data:video/mp4;base64,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\" type=\"video/mp4\" />\n",
              "                </video>"
            ]
          },
          "metadata": {}
        }
      ],
      "source": [
        "show_videos(\"videos\", prefix=\"ppo\")"
      ]
    },
    {
      "cell_type": "markdown",
      "metadata": {
        "id": "9Y8zg4V566qD"
      },
      "source": [
        "## Bonus: Train a RL Model in One Line\n",
        "\n",
        "The policy class to use will be inferred and the environment will be automatically created. This works because both are [registered](https://stable-baselines3.readthedocs.io/en/master/guide/quickstart.html)."
      ]
    },
    {
      "cell_type": "code",
      "execution_count": null,
      "metadata": {
        "id": "iaOPfOrwWEP4"
      },
      "outputs": [],
      "source": [
        "model = PPO('MlpPolicy', \"CartPole-v1\", verbose=1).learn(1000)"
      ]
    },
    {
      "cell_type": "markdown",
      "metadata": {
        "id": "FrI6f5fWnzp-"
      },
      "source": [
        "## Conclusion\n",
        "\n",
        "In this notebook we have seen:\n",
        "- how to define and train a RL model using stable baselines3, it takes only one line of code ;)"
      ]
    },
    {
      "cell_type": "markdown",
      "source": [
        "最简单的一个环境是cartpole环境，接下来需要研究如何修改网络，以及嵌入其中rnn、lstm或者是gru"
      ],
      "metadata": {
        "id": "QBvLkME2hteT"
      }
    },
    {
      "cell_type": "code",
      "execution_count": null,
      "metadata": {
        "id": "73ji3gbNDkf7"
      },
      "outputs": [],
      "source": []
    }
  ],
  "metadata": {
    "accelerator": "GPU",
    "colab": {
      "name": "1_getting_started.ipynb",
      "provenance": [],
      "gpuType": "T4",
      "include_colab_link": true
    },
    "kernelspec": {
      "display_name": "Python 3",
      "name": "python3"
    },
    "language_info": {
      "codemirror_mode": {
        "name": "ipython",
        "version": 3
      },
      "file_extension": ".py",
      "mimetype": "text/x-python",
      "name": "python",
      "nbconvert_exporter": "python",
      "pygments_lexer": "ipython3",
      "version": "3.10.9"
    }
  },
  "nbformat": 4,
  "nbformat_minor": 0
}